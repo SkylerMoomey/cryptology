{
 "cells": [
  {
   "cell_type": "code",
   "execution_count": 12,
   "metadata": {},
   "outputs": [
    {
     "name": "stdout",
     "output_type": "stream",
     "text": [
      "#1 : 31\n",
      "#2: 2014\n",
      "#3: 14\n",
      "#4: 21712\n"
     ]
    }
   ],
   "source": [
    "#Exercise 9\n",
    "\n",
    "#Decrypt the following:\n",
    "\n",
    "# n = 3551, D= 1997, y=2791\n",
    "\n",
    "n_1=3551\n",
    "D_1=1997\n",
    "y_1=2791\n",
    "\n",
    "decrypted = power_mod(y_1,D_1,n_1)\n",
    "\n",
    "print(\"#1 : \" + str(decrypted))\n",
    "\n",
    "# n=5893, D=81, y=34\n",
    "\n",
    "n_2=5893\n",
    "D_2=81\n",
    "y_2=34\n",
    "\n",
    "decrypted = power_mod(y_2,D_2,n_2)\n",
    "print(\"#2: \" + str(decrypted))\n",
    "\n",
    "# n=120979, D=27331, y=112135\n",
    "\n",
    "n_3=120979\n",
    "D_3=27331\n",
    "y_3=112135\n",
    "\n",
    "decrypted = power_mod(y_3,D_3,n_3)\n",
    "print(\"#3: \"+ str(decrypted))\n",
    "\n",
    "# n=79403, D=671, y=129381\n",
    "\n",
    "n_4=79403; D_4=671; y_4=129381\n",
    "\n",
    "decrypted = power_mod(y_4,D_4, n_4)\n",
    "print(\"#4: \" + str(decrypted))"
   ]
  },
  {
   "cell_type": "code",
   "execution_count": null,
   "metadata": {},
   "outputs": [],
   "source": []
  },
  {
   "cell_type": "code",
   "execution_count": null,
   "metadata": {},
   "outputs": [],
   "source": []
  }
 ],
 "metadata": {
  "kernelspec": {
   "display_name": "SageMath 9.1",
   "language": "sage",
   "name": "sagemath"
  },
  "language_info": {
   "codemirror_mode": {
    "name": "ipython",
    "version": 2
   },
   "file_extension": ".py",
   "mimetype": "text/x-python",
   "name": "python",
   "nbconvert_exporter": "python",
   "pygments_lexer": "ipython2",
   "version": "2.7.15"
  }
 },
 "nbformat": 4,
 "nbformat_minor": 2
}
