{
 "cells": [
  {
   "cell_type": "code",
   "execution_count": 1,
   "metadata": {},
   "outputs": [
    {
     "name": "stdout",
     "output_type": "stream",
     "text": [
      "D_1: 71\n",
      "D_2: 2161\n",
      "D_3: 37838567\n",
      "D_4: 1566305611\n"
     ]
    }
   ],
   "source": [
    "#Compute decryption keys for the following:\n",
    "#@Author = Skyler Moomey\n",
    "#@Date = 10/23/2020\n",
    "\n",
    "def rsa_key(n, E):\n",
    "    \n",
    "    m = euler_phi(n)\n",
    "    \n",
    "    D = inverse_mod(E, m)\n",
    "    \n",
    "    return D\n",
    "\n",
    "# a) (n,E) = (451,231)\n",
    "\n",
    "D_1 = rsa_key(451, 231)\n",
    "\n",
    "print(\"D_1: \" + str(D_1))\n",
    "\n",
    "\n",
    "# b) (n,E) = (3053,1921)\n",
    "\n",
    "D_2 = rsa_key(3053, 1921)\n",
    "print(\"D_2: \" + str(D_2))\n",
    "\n",
    "# c) (n,E) = (37986733, 12371)\n",
    "\n",
    "D_3 = rsa_key(37986733, 12371)\n",
    "print(\"D_3: \" + str(D_3))\n",
    "\n",
    "#d) (n,E) = (16394854313, 34578451)\n",
    "\n",
    "D_4 = rsa_key(16394854313, 34578451)\n",
    "print(\"D_4: \" + str(D_4))"
   ]
  },
  {
   "cell_type": "code",
   "execution_count": null,
   "metadata": {},
   "outputs": [],
   "source": []
  }
 ],
 "metadata": {
  "kernelspec": {
   "display_name": "SageMath 9.1",
   "language": "sage",
   "name": "sagemath"
  },
  "language_info": {
   "codemirror_mode": {
    "name": "ipython",
    "version": 2
   },
   "file_extension": ".py",
   "mimetype": "text/x-python",
   "name": "python",
   "nbconvert_exporter": "python",
   "pygments_lexer": "ipython2",
   "version": "2.7.15"
  }
 },
 "nbformat": 4,
 "nbformat_minor": 2
}
